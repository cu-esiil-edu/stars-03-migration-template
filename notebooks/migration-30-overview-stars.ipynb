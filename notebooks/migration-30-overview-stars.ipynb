{
  "cells": [
    {
      "cell_type": "markdown",
      "metadata": {},
      "source": [
        "# Spring returns to the Great Plains\n",
        "\n",
        "Mapping Tasiyagnunpa migration\n",
        "\n",
        "Tasiyagnunpa (or Western Meadowlark, or *sturnella neglecta*) migrates\n",
        "each year to nest on the Great Plains in the United States. Using\n",
        "crowd-sourced observations of these birds, we can see that migration\n",
        "happening throughout the year.\n",
        "\n",
        "<figure>\n",
        "<img\n",
        "src=\"https://upload.wikimedia.org/wikipedia/commons/5/53/Sturnella_neglecta_GNP_02.jpg\"\n",
        "alt=\"Western meadowlark (Sturnella neglecta), Grasslands National Park, Saskatchewan, Canada from Cephas, CC BY-SA 4.0 https://creativecommons.org/licenses/by-sa/4.0, via Wikimedia Commons\" />\n",
        "<figcaption aria-hidden=\"true\">Western meadowlark (Sturnella neglecta),\n",
        "Grasslands National Park, Saskatchewan, Canada from Cephas, CC BY-SA 4.0\n",
        "<a href=\"https://creativecommons.org/licenses/by-sa/4.0\"\n",
        "class=\"uri\">https://creativecommons.org/licenses/by-sa/4.0</a>, via\n",
        "Wikimedia Commons</figcaption>\n",
        "</figure>\n",
        "\n",
        "<link rel=\"stylesheet\" type=\"text/css\" href=\"./assets/styles.css\"><div class=\"callout callout-style-default callout-titled callout-read\"><div class=\"callout-header\"><div class=\"callout-icon-container\"><i class=\"callout-icon\"></i></div><div class=\"callout-title-container flex-fill\">Read More</div></div><div class=\"callout-body-container callout-body\"><p>Read more about the Lakota connection to Tasiyagnunpa from <a\n",
        "href=\"https://www.nativesunnews.today/articles/meadowlarks-still-speak-lakota-humans-dont-anymore/\">Native\n",
        "Sun News Today</a></p></div></div>\n",
        "\n",
        "<link rel=\"stylesheet\" type=\"text/css\" href=\"./assets/styles.css\"><div class=\"callout callout-style-default callout-titled callout-video\"><div class=\"callout-header\"><div class=\"callout-icon-container\"><i class=\"callout-icon\"></i></div><div class=\"callout-title-container flex-fill\">Check out our demo video!</div></div><div class=\"callout-body-container callout-body\"><div data-__quarto_custom=\"true\" data-__quarto_custom_type=\"Tabset\"\n",
        "data-__quarto_custom_context=\"Block\" data-__quarto_custom_id=\"1\">\n",
        "<div data-__quarto_custom_scaffold=\"true\">\n",
        "<div\n",
        "style=\"position: relative; width: 100%; height: 0; padding-top: 56.2500%;\n",
        " padding-bottom: 0; box-shadow: 0 2px 8px 0 rgba(63,69,81,0.16); margin-top: 1.6em; margin-bottom: 0.9em; overflow: hidden;\n",
        " border-radius: 8px; will-change: transform;\">\n",
        "<p><iframe loading=\"lazy\" style=\"position: absolute; width: 100%; height: 100%; top: 0; left: 0; border: none; padding: 0;margin: 0;\"\n",
        "    src=\"https://www.canva.com/design/DAGSQQsQ_PA/u2M01H6IMkbCRryW2A7_yQ/watch?embed\" allowfullscreen=\"allowfullscreen\" allow=\"fullscreen\">\n",
        "</iframe></p>\n",
        "</div>\n",
        "<p><a href=\"https:&#x2F;&#x2F;www.canva.com&#x2F;design&#x2F;DAGSQQsQ_PA&#x2F;u2M01H6IMkbCRryW2A7_yQ&#x2F;watch?utm_content=DAGSQQsQ_PA&amp;utm_campaign=designshare&amp;utm_medium=embeds&amp;utm_source=link\" target=\"_blank\" rel=\"noopener\">DEMO:\n",
        "Migration Part 1 (EDA)</a> by Earth Lab</p>\n",
        "</div>\n",
        "<div data-__quarto_custom_scaffold=\"true\">\n",
        "Prepare Data\n",
        "</div>\n",
        "<div data-__quarto_custom_scaffold=\"true\">\n",
        "<div\n",
        "style=\"position: relative; width: 100%; height: 0; padding-top: 56.2500%;\n",
        " padding-bottom: 0; box-shadow: 0 2px 8px 0 rgba(63,69,81,0.16); margin-top: 1.6em; margin-bottom: 0.9em; overflow: hidden;\n",
        " border-radius: 8px; will-change: transform;\">\n",
        "<p><iframe loading=\"lazy\" style=\"position: absolute; width: 100%; height: 100%; top: 0; left: 0; border: none; padding: 0;margin: 0;\"\n",
        "    src=\"https://www.canva.com/design/DAGSihQhE1E/pEr21iwZyKFm51eyZcT5wg/watch?embed\" allowfullscreen=\"allowfullscreen\" allow=\"fullscreen\">\n",
        "</iframe></p>\n",
        "</div>\n",
        "<p><a href=\"https:&#x2F;&#x2F;www.canva.com&#x2F;design&#x2F;DAGSihQhE1E&#x2F;pEr21iwZyKFm51eyZcT5wg&#x2F;watch?utm_content=DAGSihQhE1E&amp;utm_campaign=designshare&amp;utm_medium=embeds&amp;utm_source=link\" target=\"_blank\" rel=\"noopener\">DEMO:\n",
        "Migration Part 2 (EDA)</a> by Earth Lab</p>\n",
        "</div>\n",
        "<div data-__quarto_custom_scaffold=\"true\">\n",
        "Dynamic Plot\n",
        "</div>\n",
        "<div data-__quarto_custom_scaffold=\"true\">\n",
        "<div\n",
        "style=\"position: relative; width: 100%; height: 0; padding-top: 56.2500%;\n",
        " padding-bottom: 0; box-shadow: 0 2px 8px 0 rgba(63,69,81,0.16); margin-top: 1.6em; margin-bottom: 0.9em; overflow: hidden;\n",
        " border-radius: 8px; will-change: transform;\">\n",
        "<p><iframe loading=\"lazy\" style=\"position: absolute; width: 100%; height: 100%; top: 0; left: 0; border: none; padding: 0;margin: 0;\"\n",
        "    src=\"https://www.canva.com/design/DAGTHFtabF0/2Gd9koO6O9p2RL41fJuA1g/watch?embed\" allowfullscreen=\"allowfullscreen\" allow=\"fullscreen\">\n",
        "</iframe></p>\n",
        "</div>\n",
        "</div>\n",
        "<div data-__quarto_custom_scaffold=\"true\">\n",
        "Portfolio Post\n",
        "</div>\n",
        "</div></div></div>\n",
        "\n",
        "<link rel=\"stylesheet\" type=\"text/css\" href=\"./assets/styles.css\"><div class=\"callout callout-style-default callout-titled callout-response\"><div class=\"callout-header\"><div class=\"callout-icon-container\"><i class=\"callout-icon\"></i></div><div class=\"callout-title-container flex-fill\">What can we learn from migration patterns?</div></div><div class=\"callout-body-container callout-body\"><p>Reflect on what you know about migration. You could consider:</p>\n",
        "<ol type=\"1\">\n",
        "<li>What are some reasons that animals migrate?</li>\n",
        "<li>How might climate change affect animal migrations?</li>\n",
        "<li>Do you notice any animal migrations in your area?</li>\n",
        "</ol></div></div>"
      ],
      "id": "186859c2-3c7f-4506-859b-653013068053"
    },
    {
      "cell_type": "markdown",
      "metadata": {},
      "source": [
        "YOUR ANSWER HERE"
      ],
      "id": "ee3c451e-aca2-4381-8efa-d64bfe43f13e"
    },
    {
      "cell_type": "markdown",
      "metadata": {},
      "source": [
        "## Wrap up\n",
        "\n",
        "Don’t forget to store your variables so you can use them in other\n",
        "notebooks! This code will store all your variables. You might want to\n",
        "specify specific variables, especially if you have large objects in\n",
        "memory that you won’t need in the future."
      ],
      "id": "12740d99-ea67-4852-b3e7-7f1d8144082a"
    },
    {
      "cell_type": "code",
      "execution_count": 1,
      "metadata": {},
      "outputs": [],
      "source": [
        "%store"
      ],
      "id": "3a7a3d47"
    },
    {
      "cell_type": "markdown",
      "metadata": {},
      "source": [
        "Finally, be sure to `Restart` and `Run all` to make sure your notebook\n",
        "works all the way through!"
      ],
      "id": "22643bfa-9383-47a6-9eaa-0f4384a16192"
    }
  ],
  "nbformat": 4,
  "nbformat_minor": 5,
  "metadata": {
    "kernelspec": {
      "name": "python3",
      "display_name": "Python 3 (ipykernel)",
      "language": "python",
      "path": "/Users/elsa/miniconda3/envs/learning-portal/share/jupyter/kernels/python3"
    },
    "language_info": {
      "name": "python",
      "codemirror_mode": {
        "name": "ipython",
        "version": "3"
      },
      "file_extension": ".py",
      "mimetype": "text/x-python",
      "nbconvert_exporter": "python",
      "pygments_lexer": "ipython3",
      "version": "3.10.17"
    }
  }
}