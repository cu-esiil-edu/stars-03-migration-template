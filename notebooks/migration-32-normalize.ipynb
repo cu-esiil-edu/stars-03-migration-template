{
  "cells": [
    {
      "cell_type": "markdown",
      "metadata": {},
      "source": [
        "# Spring returns to the Great Plains\n",
        "\n",
        "Mapping Tasiyagnunpa migration\n",
        "\n",
        "# STEP 0: Set up\n",
        "\n",
        "To get started on this notebook, you’ll need to restore any variables\n",
        "from previous notebooks to your workspace. To save time and memory, make\n",
        "sure to specify which variables you want to load."
      ],
      "id": "d755b89e-0dc9-4a81-b1ce-a33e7a0b1bbe"
    },
    {
      "cell_type": "code",
      "execution_count": 2,
      "metadata": {},
      "outputs": [],
      "source": [
        "%store -r"
      ],
      "id": "81f92f22"
    },
    {
      "cell_type": "markdown",
      "metadata": {},
      "source": [
        "You will also need to import any libraries you are using in this\n",
        "notebook, since they won’t carry over from the previous notebook:"
      ],
      "id": "6ee7ea06-acfc-4fc6-b233-7625024b1d9d"
    },
    {
      "cell_type": "code",
      "execution_count": 3,
      "metadata": {},
      "outputs": [],
      "source": [
        "# Import libraries"
      ],
      "id": "2d807f4b"
    },
    {
      "cell_type": "markdown",
      "metadata": {},
      "source": [
        "## STEP 4: Count the number of observations in each ecosystem, during each month of 2023\n",
        "\n",
        "Much of the data in GBIF is **crowd-sourced**. As a result, we need not\n",
        "just the number of observations in each ecosystem each month – we need\n",
        "to **normalize** by some measure of **sampling effort**. After all, we\n",
        "wouldn’t expect the same number of observations at the North Pole as we\n",
        "would in a National Park, even if there were the same number organisms.\n",
        "In this case, we’re normalizing using the average number of observations\n",
        "for each ecosystem and each month. This should help control for the\n",
        "number of active observers in each location and time of year.\n",
        "\n",
        "### Set up your analysis\n",
        "\n",
        "First things first – let’s load your stored variables."
      ],
      "id": "cb0d1149-1bea-489b-90d4-d32a67bbf914"
    },
    {
      "cell_type": "code",
      "execution_count": 4,
      "metadata": {},
      "outputs": [],
      "source": [
        "%store -r ecoregions_gdf gbif_gdf"
      ],
      "id": "7f45fb3c"
    },
    {
      "cell_type": "markdown",
      "metadata": {},
      "source": [
        "### Identify the ecoregion for each observation\n",
        "\n",
        "You can combine the ecoregions and the observations **spatially** using\n",
        "a method called `.sjoin()`, which stands for spatial join.\n",
        "\n",
        "<link rel=\"stylesheet\" type=\"text/css\" href=\"./assets/styles.css\"><div class=\"callout callout-style-default callout-titled callout-read\"><div class=\"callout-header\"><div class=\"callout-icon-container\"><i class=\"callout-icon\"></i></div><div class=\"callout-title-container flex-fill\">Read More</div></div><div class=\"callout-body-container callout-body\"><p>Check out the <a\n",
        "href=\"https://geopandas.org/en/stable/docs/user_guide/mergingdata.html#spatial-joins\"><code>geopandas</code>\n",
        "documentation on spatial joins</a> to help you figure this one out. You\n",
        "can also ask your favorite LLM (Large-Language Model, like ChatGPT)</p></div></div>\n",
        "\n",
        "<link rel=\"stylesheet\" type=\"text/css\" href=\"./assets/styles.css\"><div class=\"callout callout-style-default callout-titled callout-task\"><div class=\"callout-header\"><div class=\"callout-icon-container\"><i class=\"callout-icon\"></i></div><div class=\"callout-title-container flex-fill\">Try It: Perform a spatial join</div></div><div class=\"callout-body-container callout-body\"><ol type=\"1\">\n",
        "<li>Identify the correct values for the <code>how=</code> and\n",
        "<code>predicate=</code> parameters of the spatial join.</li>\n",
        "<li>Select only the columns you will need for your plot.</li>\n",
        "<li>Run the code.</li>\n",
        "</ol></div></div>"
      ],
      "id": "69ad14e4-43ae-49fb-9822-f3d8626c80bb"
    },
    {
      "cell_type": "code",
      "execution_count": 5,
      "metadata": {
        "template": "student"
      },
      "outputs": [],
      "source": [
        "gbif_ecoregion_gdf = (\n",
        "    ecoregions_gdf\n",
        "    # Match the CRS of the GBIF data and the ecoregions\n",
        "    .to_crs(gbif_gdf.crs)\n",
        "    # Find ecoregion for each observation\n",
        "    .sjoin(\n",
        "        gbif_gdf,\n",
        "        how='', \n",
        "        predicate='')\n",
        "    # Select the required columns\n",
        "    \n",
        ")\n",
        "gbif_ecoregion_gdf"
      ],
      "id": "9491a80b"
    },
    {
      "cell_type": "markdown",
      "metadata": {},
      "source": [
        "### Count the observations in each ecoregion each month\n",
        "\n",
        "<link rel=\"stylesheet\" type=\"text/css\" href=\"./assets/styles.css\"><div class=\"callout callout-style-default callout-titled callout-task\"><div class=\"callout-header\"><div class=\"callout-icon-container\"><i class=\"callout-icon\"></i></div><div class=\"callout-title-container flex-fill\">Try It: Group observations by ecoregion</div></div><div class=\"callout-body-container callout-body\"><ol type=\"1\">\n",
        "<li>Replace <code>columns_to_group_by</code> with a list of columns.\n",
        "Keep in mind that you will end up with one row for each group – you want\n",
        "to count the observations in each ecoregion by month.</li>\n",
        "<li>Select only month/ecosystem combinations that have more than one\n",
        "occurrence recorded, since a single occurrence could be an error.</li>\n",
        "<li>Use the <code>.groupby()</code> and <code>.mean()</code> methods to\n",
        "compute the mean occurrences by ecoregion and by month.</li>\n",
        "<li>Run the code – it will normalize the number of occurrences by month\n",
        "and ecoretion.</li>\n",
        "</ol></div></div>"
      ],
      "id": "6a8d9cbd-c592-4e70-b924-6ca443fc4a9b"
    },
    {
      "cell_type": "code",
      "execution_count": 7,
      "metadata": {
        "template": "student"
      },
      "outputs": [],
      "source": [
        "occurrence_df = (\n",
        "    gbif_ecoregion_gdf\n",
        "    # For each ecoregion, for each month...\n",
        "    .groupby(columns_to_group_by)\n",
        "    # ...count the number of occurrences\n",
        "    .agg(occurrences=('name', 'count'))\n",
        ")\n",
        "\n",
        "# Get rid of rare observations (possible misidentification?)\n",
        "occurrence_df = occurrence_df[...]\n",
        "\n",
        "# Take the mean by ecoregion\n",
        "mean_occurrences_by_ecoregion = (\n",
        "    occurrence_df\n",
        "    ...\n",
        ")\n",
        "# Take the mean by month\n",
        "mean_occurrences_by_month = (\n",
        "    occurrence_df\n",
        "    ...\n",
        ")"
      ],
      "id": "0499448a"
    },
    {
      "cell_type": "markdown",
      "metadata": {},
      "source": [
        "### Normalize the observations\n",
        "\n",
        "<link rel=\"stylesheet\" type=\"text/css\" href=\"./assets/styles.css\"><div class=\"callout callout-style-default callout-titled callout-task\"><div class=\"callout-header\"><div class=\"callout-icon-container\"><i class=\"callout-icon\"></i></div><div class=\"callout-title-container flex-fill\">Try It: Normalize</div></div><div class=\"callout-body-container callout-body\"><ol type=\"1\">\n",
        "<li>Divide occurrences by the mean occurrences by month AND the mean\n",
        "occurrences by ecoregion</li>\n",
        "</ol></div></div>"
      ],
      "id": "c91ba7dd-6da6-4abc-9a21-8d420667a65d"
    },
    {
      "cell_type": "code",
      "execution_count": 9,
      "metadata": {
        "template": "student"
      },
      "outputs": [],
      "source": [
        "# Normalize by space and time for sampling effort\n",
        "occurrence_df['norm_occurrences'] = (\n",
        "    occurrence_df\n",
        "    ...\n",
        ")\n",
        "occurrence_df"
      ],
      "id": "506c7199"
    },
    {
      "cell_type": "markdown",
      "metadata": {},
      "source": [
        "<link rel=\"stylesheet\" type=\"text/css\" href=\"./assets/styles.css\"><div class=\"callout callout-style-default callout-titled callout-task\"><div class=\"callout-header\"><div class=\"callout-icon-container\"><i class=\"callout-icon\"></i></div><div class=\"callout-title-container flex-fill\">Try It</div></div><div class=\"callout-body-container callout-body\"><p>Make sure to store the new version of your <code>DataFrame</code> for\n",
        "other notebooks!</p>\n",
        "<div id=\"3ee8916e\" class=\"cell\" data-execution_count=\"11\">\n",
        "<div class=\"sourceCode\" id=\"cb1\"><pre\n",
        "class=\"sourceCode python cell-code\"><code class=\"sourceCode python\"><span id=\"cb1-1\"><a href=\"#cb1-1\" aria-hidden=\"true\" tabindex=\"-1\"></a><span class=\"op\">%</span>store occurrence_df</span></code></pre></div>\n",
        "</div></div></div>\n",
        "\n",
        "# STEP -1: Wrap up\n",
        "\n",
        "Don’t forget to store your variables so you can use them in other\n",
        "notebooks! Replace `var1` and `var2` with the variable you want to save,\n",
        "separated by spaces."
      ],
      "id": "ba97d13c-fc23-442a-b9f8-613d14c07e13"
    },
    {
      "cell_type": "code",
      "execution_count": 12,
      "metadata": {},
      "outputs": [],
      "source": [
        "%store var1 var2"
      ],
      "id": "dec18836"
    },
    {
      "cell_type": "markdown",
      "metadata": {},
      "source": [
        "Finally, be sure to `Restart` and `Run all` to make sure your notebook\n",
        "works all the way through!"
      ],
      "id": "ec167ec2-bbe9-4869-b4d2-30d8a0177aa1"
    }
  ],
  "nbformat": 4,
  "nbformat_minor": 5,
  "metadata": {
    "kernelspec": {
      "name": "python3",
      "display_name": "Python 3 (ipykernel)",
      "language": "python",
      "path": "/Users/elsa/miniconda3/envs/learning-portal/share/jupyter/kernels/python3"
    },
    "language_info": {
      "name": "python",
      "codemirror_mode": {
        "name": "ipython",
        "version": "3"
      },
      "file_extension": ".py",
      "mimetype": "text/x-python",
      "nbconvert_exporter": "python",
      "pygments_lexer": "ipython3",
      "version": "3.11.13"
    }
  }
}