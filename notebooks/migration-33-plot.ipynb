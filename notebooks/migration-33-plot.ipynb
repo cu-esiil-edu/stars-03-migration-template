{
  "cells": [
    {
      "cell_type": "markdown",
      "metadata": {},
      "source": [
        "# Spring returns to the Great Plains\n",
        "\n",
        "Mapping Tasiyagnunpa migration\n",
        "\n",
        "## Set up\n",
        "\n",
        "To get started on this notebook, you’ll need to restore any variables\n",
        "from previous notebooks to your workspace."
      ],
      "id": "6dd2b761-17bd-44ce-b10f-5a68e37f2c1e"
    },
    {
      "cell_type": "code",
      "execution_count": 1,
      "metadata": {},
      "outputs": [],
      "source": [
        "%store -r\n",
        "\n",
        "# Import libraries"
      ],
      "id": "06e73bae"
    },
    {
      "cell_type": "markdown",
      "metadata": {},
      "source": [
        "## STEP 5: Plot the Tasiyagnunpa observations by month\n",
        "\n",
        "First thing first – let’s load your stored variables and import\n",
        "libraries."
      ],
      "id": "72b074c7-f7c9-4047-b912-5009b441bb10"
    },
    {
      "cell_type": "code",
      "execution_count": 2,
      "metadata": {},
      "outputs": [],
      "source": [
        "%store -r ecoregions_gdf occurrence_df"
      ],
      "id": "c5b8d5ba"
    },
    {
      "cell_type": "markdown",
      "metadata": {},
      "source": [
        "<link rel=\"stylesheet\" type=\"text/css\" href=\"./assets/styles.css\"><div class=\"callout callout-style-default callout-titled callout-task\"><div class=\"callout-header\"><div class=\"callout-icon-container\"><i class=\"callout-icon\"></i></div><div class=\"callout-title-container flex-fill\">Try It: Import packages</div></div><div class=\"callout-body-container callout-body\"><p>In the imports cell, we’ve included some packages that you will need.\n",
        "Add imports for packages that will help you:</p>\n",
        "<ol type=\"1\">\n",
        "<li>Make interactive maps with vector data</li>\n",
        "</ol></div></div>"
      ],
      "id": "e0bd49ab-7173-4bf6-9931-813a110a3c4f"
    },
    {
      "cell_type": "code",
      "execution_count": 3,
      "metadata": {
        "template": "student"
      },
      "outputs": [],
      "source": [
        "# Get month names\n",
        "import calendar\n",
        "\n",
        "# Libraries for Dynamic mapping\n",
        "import cartopy.crs as ccrs\n",
        "import panel as pn"
      ],
      "id": "e285e17c"
    },
    {
      "cell_type": "markdown",
      "metadata": {},
      "source": [
        "### Create a simplified `GeoDataFrame` for plotting\n",
        "\n",
        "Plotting larger files can be time consuming. The code below will\n",
        "streamline plotting with `hvplot` by simplifying the geometry,\n",
        "projecting it to a Mercator projection that is compatible with\n",
        "`geoviews`, and cropping off areas in the Arctic.\n",
        "\n",
        "<link rel=\"stylesheet\" type=\"text/css\" href=\"./assets/styles.css\"><div class=\"callout callout-style-default callout-titled callout-task\"><div class=\"callout-header\"><div class=\"callout-icon-container\"><i class=\"callout-icon\"></i></div><div class=\"callout-title-container flex-fill\">Try It: Simplify ecoregion data</div></div><div class=\"callout-body-container callout-body\"><p>Download and save ecoregion boundaries from the EPA:</p>\n",
        "<ol type=\"1\">\n",
        "<li>Simplify the ecoregions with <code>.simplify(.05)</code>, and save\n",
        "it back to the <code>geometry</code> column.</li>\n",
        "<li>Change the Coordinate Reference System (CRS) to Mercator with\n",
        "<code>.to_crs(ccrs.Mercator())</code></li>\n",
        "<li>Use the plotting code that is already in the cell to check that the\n",
        "plotting runs quickly (less than a minute) and looks the way you want,\n",
        "making sure to change <code>gdf</code> to YOUR <code>GeoDataFrame</code>\n",
        "name.</li>\n",
        "</ol></div></div>"
      ],
      "id": "ad7eee99-71ba-4b90-8165-d25acd01c6e0"
    },
    {
      "cell_type": "code",
      "execution_count": 5,
      "metadata": {
        "template": "student"
      },
      "outputs": [],
      "source": [
        "# Simplify the geometry to speed up processing\n",
        "\n",
        "# Change the CRS to Mercator for mapping\n",
        "\n",
        "# Check that the plot runs in a reasonable amount of time\n",
        "gdf.hvplot(geo=True, crs=ccrs.Mercator())"
      ],
      "id": "5f4b0718"
    },
    {
      "cell_type": "markdown",
      "metadata": {},
      "source": [
        "<link rel=\"stylesheet\" type=\"text/css\" href=\"./assets/styles.css\"><div class=\"callout callout-style-default callout-titled callout-task\"><div class=\"callout-header\"><div class=\"callout-icon-container\"><i class=\"callout-icon\"></i></div><div class=\"callout-title-container flex-fill\">Try It: Map migration over time</div></div><div class=\"callout-body-container callout-body\"><ol type=\"1\">\n",
        "<li>If applicable, replace any variable names with the names you defined\n",
        "previously.</li>\n",
        "<li>Replace <code>column_name_used_for_ecoregion_color</code> and\n",
        "<code>column_name_used_for_slider</code> with the column names you wish\n",
        "to use.</li>\n",
        "<li>Customize your plot with your choice of title, tile source, color\n",
        "map, and size.</li>\n",
        "</ol>\n",
        "<div data-__quarto_custom=\"true\" data-__quarto_custom_type=\"Callout\"\n",
        "data-__quarto_custom_context=\"Block\" data-__quarto_custom_id=\"4\">\n",
        "<div data-__quarto_custom_scaffold=\"true\">\n",
        "\n",
        "</div>\n",
        "<div data-__quarto_custom_scaffold=\"true\">\n",
        "<p>Your plot will probably still change months very slowly in your\n",
        "Jupyter notebook, because it calculates each month’s plot as needed.\n",
        "Open up the saved HTML file to see faster performance!</p>\n",
        "</div>\n",
        "</div></div></div>"
      ],
      "id": "c72bf651-7acd-4690-8b91-0f12c7646bbb"
    },
    {
      "cell_type": "code",
      "execution_count": 7,
      "metadata": {
        "template": "student"
      },
      "outputs": [],
      "source": [
        "# Join the occurrences with the plotting GeoDataFrame\n",
        "occurrence_gdf = ecoregions_gdf.join(occurrence_df)\n",
        "\n",
        "# Get the plot bounds so they don't change with the slider\n",
        "xmin, ymin, xmax, ymax = occurrence_gdf.total_bounds\n",
        "\n",
        "# Plot occurrence by ecoregion and month\n",
        "migration_plot = (\n",
        "    occurrence_gdf\n",
        "    .hvplot(\n",
        "        c=column_name_used_for_shape_color,\n",
        "        groupby=column_name_used_for_slider,\n",
        "        # Use background tiles\n",
        "        geo=True, crs=ccrs.Mercator(), tiles='CartoLight',\n",
        "        title=\"Your Title Here\",\n",
        "        xlim=(xmin, xmax), ylim=(ymin, ymax),\n",
        "        frame_height=600,\n",
        "        widget_location='bottom'\n",
        "    )\n",
        ")\n",
        "\n",
        "# Save the plot\n",
        "migration_plot.save('migration.html', embed=True)"
      ],
      "id": "366f74b7"
    },
    {
      "cell_type": "markdown",
      "metadata": {},
      "source": [
        "<link rel=\"stylesheet\" type=\"text/css\" href=\"./assets/styles.css\"><div class=\"callout callout-style-default callout-titled callout-extra\"><div class=\"callout-header\"><div class=\"callout-icon-container\"><i class=\"callout-icon\"></i></div><div class=\"callout-title-container flex-fill\">Looking for an Extra Challenge?: Fix the month labels</div></div><div class=\"callout-body-container callout-body\"><p>Notice that the <code>month</code> slider displays numbers instead of\n",
        "the month name. Use <code>pn.widgets.DiscreteSlider()</code> with the\n",
        "<code>options=</code> parameter set to give the months names. You might\n",
        "want to try asking ChatGPT how to do this, or look at the documentation\n",
        "for <code>pn.widgets.DiscreteSlider()</code>. This is pretty tricky!</p></div></div>\n",
        "\n",
        "## Wrap up\n",
        "\n",
        "Don’t forget to store your variables so you can use them in other\n",
        "notebooks! This code will store all your variables. You might want to\n",
        "specify specific variables, especially if you have large objects in\n",
        "memory that you won’t need in the future."
      ],
      "id": "37d84687-f28a-4dfb-b4d9-fe08a5355554"
    },
    {
      "cell_type": "code",
      "execution_count": 9,
      "metadata": {},
      "outputs": [],
      "source": [
        "%store"
      ],
      "id": "f369be0b"
    },
    {
      "cell_type": "markdown",
      "metadata": {},
      "source": [
        "Finally, be sure to `Restart` and `Run all` to make sure your notebook\n",
        "works all the way through!"
      ],
      "id": "334ca135-0e01-428e-af99-4d15679dcf29"
    }
  ],
  "nbformat": 4,
  "nbformat_minor": 5,
  "metadata": {
    "kernelspec": {
      "name": "python3",
      "display_name": "Python 3 (ipykernel)",
      "language": "python",
      "path": "/Users/elsa/miniconda3/envs/learning-portal/share/jupyter/kernels/python3"
    },
    "language_info": {
      "name": "python",
      "codemirror_mode": {
        "name": "ipython",
        "version": "3"
      },
      "file_extension": ".py",
      "mimetype": "text/x-python",
      "nbconvert_exporter": "python",
      "pygments_lexer": "ipython3",
      "version": "3.10.17"
    }
  }
}