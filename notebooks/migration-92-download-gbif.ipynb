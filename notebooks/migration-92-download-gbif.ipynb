{
  "cells": [
    {
      "cell_type": "markdown",
      "metadata": {},
      "source": [
        "# Migration Data Download\n",
        "\n",
        "Get Tasiagnunpa occurrence data from the Global Biodiversity Information\n",
        "Facility (GBIF)\n",
        "\n",
        "## Set up\n",
        "\n",
        "To get started on this notebook, you’ll need to restore any variables\n",
        "from previous notebooks to your workspace."
      ],
      "id": "a93e27d9-3ef8-4d70-819b-5223eab04f28"
    },
    {
      "cell_type": "code",
      "execution_count": 2,
      "metadata": {},
      "outputs": [],
      "source": [
        "%store -r\n",
        "\n",
        "# Import libraries"
      ],
      "id": "6ddc2b58"
    },
    {
      "cell_type": "markdown",
      "metadata": {},
      "source": [
        "## Access locations and times of Veery encounters\n",
        "\n",
        "For this challenge, you will use a database called the [Global\n",
        "Biodiversity Information Facility (GBIF)](https://www.gbif.org/). GBIF\n",
        "is compiled from species observation data all over the world, and\n",
        "includes everything from museum specimens to photos taken by citizen\n",
        "scientists in their backyards.\n",
        "\n",
        "<link rel=\"stylesheet\" type=\"text/css\" href=\"./assets/styles.css\"><div class=\"callout callout-style-default callout-titled callout-task\"><div class=\"callout-header\"><div class=\"callout-icon-container\"><i class=\"callout-icon\"></i></div><div class=\"callout-title-container flex-fill\">Try It: Explore GBIF</div></div><div class=\"callout-body-container callout-body\"><p>Before your get started, go to the <a\n",
        "href=\"https://www.gbif.org/occurrence/search\">GBIF occurrences search\n",
        "page</a> and explore the data.</p></div></div>\n",
        "\n",
        "> **Contribute to open data**\n",
        ">\n",
        "> You can get your own observations added to GBIF using\n",
        "> [iNaturalist](https://www.inaturalist.org/)!\n",
        "\n",
        "### Set up your code to prepare for download\n",
        "\n",
        "We will be getting data from a source called [GBIF (Global Biodiversity\n",
        "Information Facility)](https://www.gbif.org/). We need a package called\n",
        "`pygbif` to access the data, which may not be included in your\n",
        "environment. Install it by running the cell below:"
      ],
      "id": "34af235c-5d50-4ed4-a4df-5810dd5f3b9c"
    },
    {
      "cell_type": "code",
      "execution_count": 3,
      "metadata": {},
      "outputs": [],
      "source": [
        "%%bash\n",
        "pip install pygbif"
      ],
      "id": "89210691"
    },
    {
      "cell_type": "markdown",
      "metadata": {},
      "source": [
        "<link rel=\"stylesheet\" type=\"text/css\" href=\"./assets/styles.css\"><div class=\"callout callout-style-default callout-titled callout-task\"><div class=\"callout-header\"><div class=\"callout-icon-container\"><i class=\"callout-icon\"></i></div><div class=\"callout-title-container flex-fill\">Try It: Import packages</div></div><div class=\"callout-body-container callout-body\"><p>In the imports cell, we’ve included some packages that you will need.\n",
        "Add imports for packages that will help you:</p>\n",
        "<ol type=\"1\">\n",
        "<li>Work with reproducible file paths</li>\n",
        "<li>Work with tabular data</li>\n",
        "</ol></div></div>"
      ],
      "id": "e373b261-68e5-4aae-a3d1-2786c8a74ac7"
    },
    {
      "cell_type": "code",
      "execution_count": 4,
      "metadata": {
        "template": "student"
      },
      "outputs": [],
      "source": [
        "import time\n",
        "import zipfile\n",
        "from getpass import getpass\n",
        "from glob import glob\n",
        "\n",
        "import pygbif.occurrences as occ\n",
        "import pygbif.species as species"
      ],
      "id": "283caa3a"
    },
    {
      "cell_type": "markdown",
      "metadata": {},
      "source": [
        "### Create a directory for your data\n",
        "\n",
        "For this challenge, you will need to download some data to the computer\n",
        "you’re working on. We suggest using the `earthpy` library we develop to\n",
        "manage your downloads, since it encapsulates many best practices as far\n",
        "as:\n",
        "\n",
        "1.  Where to store your data\n",
        "2.  Dealing with archived data like .zip files\n",
        "3.  Avoiding version control problems\n",
        "4.  Making sure your code works cross-platform\n",
        "5.  Avoiding duplicate downloads\n",
        "\n",
        "If you’re working on one of our assignments through GitHub Classroom, it\n",
        "also lets us build in some handy defaults so that you can see your data\n",
        "files while you work.\n",
        "\n",
        "<link rel=\"stylesheet\" type=\"text/css\" href=\"./assets/styles.css\"><div class=\"callout callout-style-default callout-titled callout-task\"><div class=\"callout-header\"><div class=\"callout-icon-container\"><i class=\"callout-icon\"></i></div><div class=\"callout-title-container flex-fill\">Try It: Create a project folder</div></div><div class=\"callout-body-container callout-body\"><p>The code below will help you get started with making a project\n",
        "directory</p>\n",
        "<ol type=\"1\">\n",
        "<li>Replace <code>'your-project-directory-name-here'</code> with a\n",
        "<strong>descriptive</strong> name</li>\n",
        "<li>Run the cell</li>\n",
        "<li>The code should have printed out the path to your data files. Check\n",
        "that your data directory exists and has data in it using the terminal or\n",
        "your Finder/File Explorer.</li>\n",
        "</ol></div></div>\n",
        "\n",
        "> **File structure**\n",
        ">\n",
        "> These days, a lot of people find your file by searching for them or\n",
        "> selecting from a `Bookmarks` or `Recents` list. Even if you don’t use\n",
        "> it, your computer also keeps files in a **tree** structure of folders.\n",
        "> Put another way, you can organize and find files by travelling along a\n",
        "> unique **path**, e.g. `My Drive` \\> `Documents` \\>\n",
        "> `My awesome project` \\> `A project file` where each subsequent folder\n",
        "> is **inside** the previous one. This is convenient because all the\n",
        "> files for a project can be in the same place, and both people and\n",
        "> computers can rapidly locate files they want, provided they remember\n",
        "> the path.\n",
        ">\n",
        "> You may notice that when Python prints out a file path like this, the\n",
        "> folder names are **separated** by a `/` or `\\` (depending on your\n",
        "> operating system). This character is called the **file separator**,\n",
        "> and it tells you that the next piece of the path is **inside** the\n",
        "> previous one."
      ],
      "id": "79f578ee-327a-4747-b108-139a998fb2c8"
    },
    {
      "cell_type": "code",
      "execution_count": 6,
      "metadata": {
        "template": "student"
      },
      "outputs": [],
      "source": [
        "# Create data directory\n",
        "project = earthpy.Project(\n",
        "    project_dirname='your-project-directory-name-here')\n",
        "# Download sample data\n",
        "project.get_data()\n",
        "\n",
        "# Display the project directory\n",
        "project.project_dir"
      ],
      "id": "10811c81"
    },
    {
      "cell_type": "markdown",
      "metadata": {},
      "source": [
        "### Register and log in to GBIF\n",
        "\n",
        "You will need a [GBIF account](https://www.gbif.org/) to complete this\n",
        "challenge. You can use your GitHub account to authenticate with GBIF.\n",
        "Then, run the following code to enter your credentials for the rest of\n",
        "your session.\n",
        "\n",
        "<link rel=\"stylesheet\" type=\"text/css\" href=\"./assets/styles.css\"><div class=\"callout callout-style-default callout-error\"><div class=\"callout-header\"><div class=\"callout-icon-container\"><i class=\"callout-icon\"></i></div></div><div class=\"callout-body-container callout-body\"><p>This code is <strong>interactive</strong>, meaning that it will\n",
        "<strong>ask you for a response</strong>! The prompt can sometimes be\n",
        "hard to see if you are using VSCode – it appears at the\n",
        "<strong>top</strong> of your editor window.</p></div></div>\n",
        "\n",
        "> **Tip**\n",
        ">\n",
        "> If you need to save credentials across multiple sessions, you can\n",
        "> consider loading them in from a file like a `.env`…but make sure to\n",
        "> add it to .gitignore so you don’t commit your credentials to your\n",
        "> repository!\n",
        "\n",
        "> **Warning**\n",
        ">\n",
        "> Your email address **must** match the email you used to sign up for\n",
        "> GBIF!\n",
        "\n",
        "> **Tip**\n",
        ">\n",
        "> If you accidentally enter your credentials wrong, you can set\n",
        "> `reset=True` instead of `reset=False`."
      ],
      "id": "931ee2fd-4a10-4120-9004-4fb3dc4947b0"
    },
    {
      "cell_type": "code",
      "execution_count": 8,
      "metadata": {},
      "outputs": [],
      "source": [
        "####--------------------------####\n",
        "#### DO NOT MODIFY THIS CODE! ####\n",
        "####--------------------------####\n",
        "# This code ASKS for your credentials and saves it for the rest of the session.\n",
        "# NEVER put your credentials into your code!!!!\n",
        "\n",
        "# GBIF needs a username, password, and email -- all need to match the account\n",
        "reset = False\n",
        "\n",
        "# Request and store username\n",
        "if (not ('GBIF_USER'  in os.environ)) or reset:\n",
        "    os.environ['GBIF_USER'] = input('GBIF username:')\n",
        "\n",
        "# Securely request and store password\n",
        "if (not ('GBIF_PWD'  in os.environ)) or reset:\n",
        "    os.environ['GBIF_PWD'] = getpass('GBIF password:')\n",
        "    \n",
        "# Request and store account email address\n",
        "if (not ('GBIF_EMAIL'  in os.environ)) or reset:\n",
        "    os.environ['GBIF_EMAIL'] = input('GBIF email:')"
      ],
      "id": "cf718137"
    },
    {
      "cell_type": "markdown",
      "metadata": {},
      "source": [
        "### Get the species key\n",
        "\n",
        "<link rel=\"stylesheet\" type=\"text/css\" href=\"./assets/styles.css\"><div class=\"callout callout-style-default callout-titled callout-task\"><div class=\"callout-header\"><div class=\"callout-icon-container\"><i class=\"callout-icon\"></i></div><div class=\"callout-title-container flex-fill\">Try It</div></div><div class=\"callout-body-container callout-body\"><ol type=\"1\">\n",
        "<li>Replace the <code>species_name</code> with the name of the species\n",
        "you want to look up</li>\n",
        "<li>Run the code to get the species key</li>\n",
        "</ol></div></div>"
      ],
      "id": "7f13af76-8178-45c3-bc36-a24c589dbd25"
    },
    {
      "cell_type": "code",
      "execution_count": 9,
      "metadata": {
        "template": "student"
      },
      "outputs": [],
      "source": [
        "# Query species\n",
        "species_info = species.name_lookup(species_name, rank='SPECIES')\n",
        "\n",
        "# Get the first result\n",
        "first_result = species_info['results'][0]\n",
        "\n",
        "# Get the species key (speciesKey)\n",
        "species_key = first_result['speciesKey']\n",
        "\n",
        "# Check the result\n",
        "first_result['species'], species_key"
      ],
      "id": "49111553"
    },
    {
      "cell_type": "markdown",
      "metadata": {},
      "source": [
        "### Download data from GBIF\n",
        "\n",
        "<link rel=\"stylesheet\" type=\"text/css\" href=\"./assets/styles.css\"><div class=\"callout callout-style-default callout-titled callout-task\"><div class=\"callout-header\"><div class=\"callout-icon-container\"><i class=\"callout-icon\"></i></div><div class=\"callout-title-container flex-fill\">Try It: Submit a request to GBIF</div></div><div class=\"callout-body-container callout-body\"><ol type=\"1\">\n",
        "<li><p>Replace <code>csv_file_pattern</code> with a string that will\n",
        "match <strong>any</strong> <code>.csv</code> file when used in the\n",
        "<code>glob</code> function. HINT: the character <code>*</code>\n",
        "represents any number of any values except the file separator\n",
        "(e.g. <code>/</code>)</p></li>\n",
        "<li><p>Add parameters to the GBIF download function,\n",
        "<code>occ.download()</code> to limit your query to:</p>\n",
        "<ul>\n",
        "<li>observations of <span data-__quarto_custom=\"true\"\n",
        "data-__quarto_custom_type=\"Shortcode\"\n",
        "data-__quarto_custom_context=\"Inline\"\n",
        "data-__quarto_custom_id=\"1\"></span></li>\n",
        "<li>from 2023</li>\n",
        "<li>with spatial coordinates.</li>\n",
        "</ul></li>\n",
        "<li><p>Then, run the download. <strong>This can take a few\n",
        "minutes</strong>.</p></li>\n",
        "</ol></div></div>"
      ],
      "id": "103d36ed-c64a-4c75-ad7f-4f6511e9a807"
    },
    {
      "cell_type": "code",
      "execution_count": 11,
      "metadata": {
        "template": "student"
      },
      "outputs": [],
      "source": [
        "# Only download once\n",
        "if not glob(str(project.project_dir / csv_file_pattern)):\n",
        "    # Submit query to GBIF\n",
        "    gbif_query = occ.download([\n",
        "        \"speciesKey = \",\n",
        "        \"year = \",\n",
        "        \"hasCoordinate = \",\n",
        "    ])\n",
        "    # Only download once\n",
        "    if not 'GBIF_DOWNLOAD_KEY' in os.environ:\n",
        "        os.environ['GBIF_DOWNLOAD_KEY'] = gbif_query[0]\n",
        "\n",
        "        # Wait for the download to build\n",
        "        wait = occ.download_meta(download_key)['status']\n",
        "        while not wait=='SUCCEEDED':\n",
        "            wait = occ.download_meta(download_key)['status']\n",
        "            time.sleep(5)\n",
        "\n",
        "    # Download GBIF data\n",
        "    download_info = occ.download_get(\n",
        "        os.environ['GBIF_DOWNLOAD_KEY'], \n",
        "        path=project.project_dir)\n",
        "\n",
        "    # Unzip GBIF data\n",
        "    with zipfile.ZipFile(download_info['path']) as download_zip:\n",
        "        download_zip.extractall(path=project.project_dir)\n",
        "\n",
        "# Find the extracted .csv file path (take the first result)\n",
        "original_gbif_path = glob(str(project.project_dir / csv_file_pattern))[0]\n",
        "original_gbif_path"
      ],
      "id": "7845f786"
    },
    {
      "cell_type": "markdown",
      "metadata": {},
      "source": [
        "You might notice that the GBIF data filename isn’t very\n",
        "**descriptive**…at this point, you may want to clean up your data\n",
        "directory so that you know what the file is later on!\n",
        "\n",
        "<link rel=\"stylesheet\" type=\"text/css\" href=\"./assets/styles.css\"><div class=\"callout callout-style-default callout-titled callout-task\"><div class=\"callout-header\"><div class=\"callout-icon-container\"><i class=\"callout-icon\"></i></div><div class=\"callout-title-container flex-fill\">Try It</div></div><div class=\"callout-body-container callout-body\"><ol type=\"1\">\n",
        "<li>Replace ‘your-gbif-filename-here’ with a\n",
        "<strong>descriptive</strong> name.</li>\n",
        "<li>Run the cell</li>\n",
        "<li>Check your data folder. Is it organized the way you want?</li>\n",
        "</ol></div></div>"
      ],
      "id": "b86eaf95-59bb-4d26-bbf7-78b5e5088c3d"
    },
    {
      "cell_type": "code",
      "execution_count": 13,
      "metadata": {
        "template": "student"
      },
      "outputs": [],
      "source": [
        "# Give the download a descriptive name\n",
        "gbif_path = project.project_dir / 'your-gbif-filename-here'\n",
        "shutil.move(original_gbif_path, gbif_path)\n",
        "# Clean up\n",
        "shutil.rmtree(download_info['path'])"
      ],
      "id": "5fcdd5a3"
    },
    {
      "cell_type": "markdown",
      "metadata": {},
      "source": [
        "### Load the GBIF data into Python\n",
        "\n",
        "<link rel=\"stylesheet\" type=\"text/css\" href=\"./assets/styles.css\"><div class=\"callout callout-style-default callout-titled callout-task\"><div class=\"callout-header\"><div class=\"callout-icon-container\"><i class=\"callout-icon\"></i></div><div class=\"callout-title-container flex-fill\">Try It: Load GBIF data</div></div><div class=\"callout-body-container callout-body\"><ol type=\"1\">\n",
        "<li>Look at the beginning of the file you downloaded using the code\n",
        "below. What do you think the <strong>delimiter</strong> is?</li>\n",
        "<li>Run the following code cell. What happens?</li>\n",
        "<li>Uncomment and modify the parameters of <code>pd.read_csv()</code>\n",
        "below until your data loads successfully and you have only the columns\n",
        "you want.</li>\n",
        "</ol></div></div>\n",
        "\n",
        "You can use the following code to look at the beginning of your file:"
      ],
      "id": "759d586e-87c5-428d-be32-48c34b708c49"
    },
    {
      "cell_type": "code",
      "execution_count": 15,
      "metadata": {},
      "outputs": [],
      "source": [
        "!head -n 2 $gbif_path "
      ],
      "id": "b0455fb3"
    },
    {
      "cell_type": "code",
      "execution_count": 16,
      "metadata": {
        "template": "student"
      },
      "outputs": [],
      "source": [
        "# Load the GBIF data\n",
        "gbif_df = pd.read_csv(\n",
        "    gbif_path, \n",
        "    delimiter='',\n",
        "    index_col='',\n",
        "    usecols=[]\n",
        ")\n",
        "gbif_df.head()"
      ],
      "id": "14d648dc"
    },
    {
      "cell_type": "markdown",
      "metadata": {},
      "source": [
        "## Wrap up\n",
        "\n",
        "Don’t forget to store your variables so you can use them in other\n",
        "notebooks! This code will store all your variables. You might want to\n",
        "specify specific variables, especially if you have large objects in\n",
        "memory that you won’t need in the future."
      ],
      "id": "74f5605e-d7c0-4cc2-ae70-dd2854f31f38"
    },
    {
      "cell_type": "code",
      "execution_count": 18,
      "metadata": {},
      "outputs": [],
      "source": [
        "%store"
      ],
      "id": "dad2fe05"
    },
    {
      "cell_type": "markdown",
      "metadata": {},
      "source": [
        "Finally, be sure to `Restart` and `Run all` to make sure your notebook\n",
        "works all the way through!"
      ],
      "id": "1e4660ce-6b25-4b53-ab14-36250e26e0e1"
    }
  ],
  "nbformat": 4,
  "nbformat_minor": 5,
  "metadata": {
    "kernelspec": {
      "name": "learning-portal",
      "display_name": "Learning Portal",
      "language": "python"
    },
    "language_info": {
      "name": "python",
      "codemirror_mode": {
        "name": "ipython",
        "version": "3"
      },
      "file_extension": ".py",
      "mimetype": "text/x-python",
      "nbconvert_exporter": "python",
      "pygments_lexer": "ipython3",
      "version": "3.10.17"
    }
  }
}